{
 "cells": [
  {
   "cell_type": "code",
   "execution_count": 70,
   "metadata": {},
   "outputs": [],
   "source": [
    "class Account:\n",
    "    def __init__(self, acc_num, acc_bal):\n",
    "        self.acc_num = acc_num\n",
    "        self.acc_bal = acc_bal\n",
    "        \n",
    "        \n",
    "    def __str__(self):\n",
    "        return f'Account Balance: ${self.acc_bal:.2f}'\n",
    "        \n",
    "    def deposit(self, dep_amt):\n",
    "        self.acc_bal += dep_amt\n",
    "        print('Deposit successful')\n",
    "    def withdraw(self, wit_amt):\n",
    "        if self.acc_bal >= wit_amt:\n",
    "            self.acc_bal -= wit_amt\n",
    "            print('Withdraw successful')\n",
    "        else:\n",
    "            print('Insufficient Funds to withdraw')\n",
    "        "
   ]
  },
  {
   "cell_type": "code",
   "execution_count": 73,
   "metadata": {},
   "outputs": [],
   "source": [
    "adil = Account(249, 150000)"
   ]
  },
  {
   "cell_type": "code",
   "execution_count": 74,
   "metadata": {},
   "outputs": [
    {
     "name": "stdout",
     "output_type": "stream",
     "text": [
      "Account Balance: $150000.00\n"
     ]
    }
   ],
   "source": [
    "print(adil)"
   ]
  },
  {
   "cell_type": "code",
   "execution_count": 75,
   "metadata": {},
   "outputs": [],
   "source": [
    "class Checking(Account):\n",
    "    def __init__(self, acc_num, acc_bal):\n",
    "        super().__init__(acc_num, acc_bal)\n",
    "        \n",
    "    def __str__(self):\n",
    "        return f'Checking Account Number: {self.acc_num} \\nAccount Balance: {self.acc_bal}'\n",
    "    "
   ]
  },
  {
   "cell_type": "code",
   "execution_count": 76,
   "metadata": {},
   "outputs": [],
   "source": [
    "adil = Checking('116EC0249', 10000)"
   ]
  },
  {
   "cell_type": "code",
   "execution_count": 77,
   "metadata": {},
   "outputs": [
    {
     "name": "stdout",
     "output_type": "stream",
     "text": [
      "Checking Account Number: 116EC0249 \n",
      "Account Balance: 10000\n"
     ]
    }
   ],
   "source": [
    "print(adil)"
   ]
  },
  {
   "cell_type": "code",
   "execution_count": 78,
   "metadata": {},
   "outputs": [],
   "source": [
    "class Savings(Account):\n",
    "    def __init__(self, acc_num, acc_bal):\n",
    "        super().__init__(acc_num, acc_bal)\n",
    "        \n",
    "    def __str__(self):\n",
    "        return f'Savings Account Number: {self.acc_num} \\nAccount Balance: {self.acc_bal}'\n",
    "    \n",
    "class Business(Account):\n",
    "    def __init__(self, acc_num, acc_bal):\n",
    "        super().__init__(acc_num, acc_bal)\n",
    "        \n",
    "    def __str__(self):\n",
    "        return f'Business Account Number: {self.acc_num} \\nAccount Balance: {self.acc_bal}'\n",
    "    "
   ]
  },
  {
   "cell_type": "code",
   "execution_count": 79,
   "metadata": {},
   "outputs": [],
   "source": [
    "class Customer:\n",
    "    def __init__(self, name, PIN):\n",
    "        self.name = name\n",
    "        self.PIN = PIN\n",
    "        self.accts = {'c':[], 's':[], 'b':[]}\n",
    "        \n",
    "    def open_checking(self, acc_num, acc_bal):\n",
    "        self.accts['c'].append(Checking(acc_num, acc_bal))\n",
    "    \n",
    "    def open_savings(self, acc_num, acc_bal):\n",
    "        self.accts['s'].append(Savings(acc_num, acc_bal))\n",
    "        \n",
    "    def open_business(self, acc_num, acc_bal):\n",
    "        self.accts['b'].append(Business(acc_num, acc_bal))\n",
    "        \n",
    "    def __str__(self):\n",
    "        return f'Customer Name: {self.name}'\n",
    "    \n",
    "    def get_total_balance(self):\n",
    "        total = 0\n",
    "        for i in self.accts['c']:\n",
    "            print(i)\n",
    "            total += i.acc_bal\n",
    "        for i in self.accts['s']:\n",
    "            print(i)\n",
    "            total += i.acc_bal\n",
    "        for i in self.accts['b']:\n",
    "            print(i)\n",
    "            total += i.acc_bal\n",
    "        print(f'total balance in all accounts is: {total}')"
   ]
  },
  {
   "cell_type": "code",
   "execution_count": 80,
   "metadata": {},
   "outputs": [],
   "source": [
    "adil = Customer('Adil', 2011)"
   ]
  },
  {
   "cell_type": "code",
   "execution_count": 81,
   "metadata": {},
   "outputs": [
    {
     "data": {
      "text/plain": [
       "<__main__.Customer at 0x2787e7f7860>"
      ]
     },
     "execution_count": 81,
     "metadata": {},
     "output_type": "execute_result"
    }
   ],
   "source": [
    "adil"
   ]
  },
  {
   "cell_type": "code",
   "execution_count": 82,
   "metadata": {},
   "outputs": [
    {
     "name": "stdout",
     "output_type": "stream",
     "text": [
      "Customer Name: Adil\n"
     ]
    }
   ],
   "source": [
    "print(adil)"
   ]
  },
  {
   "cell_type": "code",
   "execution_count": 83,
   "metadata": {},
   "outputs": [],
   "source": [
    "adil.open_checking('116EC0249_C', 10000)\n",
    "adil.open_savings('116EC0249_S', 50000)\n",
    "adil.open_business('116EC0249_B', 100000)"
   ]
  },
  {
   "cell_type": "code",
   "execution_count": 84,
   "metadata": {},
   "outputs": [
    {
     "name": "stdout",
     "output_type": "stream",
     "text": [
      "Customer Name: Adil\n"
     ]
    }
   ],
   "source": [
    "print(adil)"
   ]
  },
  {
   "cell_type": "code",
   "execution_count": 85,
   "metadata": {},
   "outputs": [
    {
     "name": "stdout",
     "output_type": "stream",
     "text": [
      "Checking Account Number: 116EC0249_C \n",
      "Account Balance: 10000\n",
      "Savings Account Number: 116EC0249_S \n",
      "Account Balance: 50000\n",
      "Business Account Number: 116EC0249_B \n",
      "Account Balance: 100000\n",
      "total balance in all accounts is: 160000\n"
     ]
    }
   ],
   "source": [
    "adil.get_total_balance()"
   ]
  },
  {
   "cell_type": "code",
   "execution_count": 86,
   "metadata": {},
   "outputs": [],
   "source": [
    "def make_dp(acc_name, acc_num, acc_type, amount):\n",
    "    \"\"\"\n",
    "    acc_name : name of the account holder\n",
    "    acc_num : specific account number \n",
    "    acc_type : 'c' for checking, 's' for savings, 'b' for business\n",
    "    amount : the amount you like to deposit\n",
    "    \"\"\"\n",
    "    for i in acc_name.accts[acc_type]:\n",
    "        if acc_num == i.acc_num:\n",
    "            i.deposit(amount)"
   ]
  },
  {
   "cell_type": "code",
   "execution_count": 87,
   "metadata": {},
   "outputs": [
    {
     "name": "stdout",
     "output_type": "stream",
     "text": [
      "Deposit successful\n"
     ]
    }
   ],
   "source": [
    "make_dp(adil, '116EC0249_C', 'c', 10000)"
   ]
  },
  {
   "cell_type": "code",
   "execution_count": 88,
   "metadata": {},
   "outputs": [
    {
     "name": "stdout",
     "output_type": "stream",
     "text": [
      "Customer Name: Adil\n"
     ]
    }
   ],
   "source": [
    "print(adil)"
   ]
  },
  {
   "cell_type": "code",
   "execution_count": 89,
   "metadata": {},
   "outputs": [
    {
     "name": "stdout",
     "output_type": "stream",
     "text": [
      "Checking Account Number: 116EC0249_C \n",
      "Account Balance: 20000\n",
      "Savings Account Number: 116EC0249_S \n",
      "Account Balance: 50000\n",
      "Business Account Number: 116EC0249_B \n",
      "Account Balance: 100000\n",
      "total balance in all accounts is: 170000\n"
     ]
    }
   ],
   "source": [
    "adil.get_total_balance()"
   ]
  },
  {
   "cell_type": "code",
   "execution_count": 90,
   "metadata": {},
   "outputs": [],
   "source": [
    "def make_wd(acc_name, acc_num, acc_type, amount):\n",
    "    \"\"\"\n",
    "    acc_name : name of the account holder\n",
    "    acc_num : specific account number \n",
    "    acc_type : 'c' for checking, 's' for savings, 'b' for business\n",
    "    amount : the amount you like to withdraw\n",
    "    \"\"\"\n",
    "    for i in acc_name.accts[acc_type]:\n",
    "        if acc_num == i.acc_num:\n",
    "            i.withdraw(amount)"
   ]
  },
  {
   "cell_type": "code",
   "execution_count": 92,
   "metadata": {},
   "outputs": [
    {
     "name": "stdout",
     "output_type": "stream",
     "text": [
      "Withdraw successful\n"
     ]
    }
   ],
   "source": [
    "make_wd(adil, '116EC0249_C', 'c', 10000)"
   ]
  },
  {
   "cell_type": "code",
   "execution_count": 94,
   "metadata": {},
   "outputs": [
    {
     "name": "stdout",
     "output_type": "stream",
     "text": [
      "Checking Account Number: 116EC0249_C \n",
      "Account Balance: 10000\n",
      "Savings Account Number: 116EC0249_S \n",
      "Account Balance: 50000\n",
      "Business Account Number: 116EC0249_B \n",
      "Account Balance: 100000\n",
      "total balance in all accounts is: 160000\n"
     ]
    }
   ],
   "source": [
    "adil.get_total_balance()"
   ]
  }
 ],
 "metadata": {
  "kernelspec": {
   "display_name": "Python 3",
   "language": "python",
   "name": "python3"
  },
  "language_info": {
   "codemirror_mode": {
    "name": "ipython",
    "version": 3
   },
   "file_extension": ".py",
   "mimetype": "text/x-python",
   "name": "python",
   "nbconvert_exporter": "python",
   "pygments_lexer": "ipython3",
   "version": "3.7.3"
  }
 },
 "nbformat": 4,
 "nbformat_minor": 2
}
